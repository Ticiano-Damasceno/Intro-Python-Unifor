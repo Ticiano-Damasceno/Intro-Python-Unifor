{
 "cells": [
  {
   "attachments": {},
   "cell_type": "markdown",
   "metadata": {},
   "source": [
    "# X552 - Introdução a Programação com Python"
   ]
  },
  {
   "attachments": {},
   "cell_type": "markdown",
   "metadata": {},
   "source": [
    "<p1>\n",
    "    Prof. Erneson Alves de Oliveira<br>\n",
    "    MBA em Ciência de Dados<br>\n",
    "    Universidade<br>\n",
    "</p1>"
   ]
  },
  {
   "attachments": {},
   "cell_type": "markdown",
   "metadata": {},
   "source": [
    "<Hr>"
   ]
  },
  {
   "attachments": {},
   "cell_type": "markdown",
   "metadata": {},
   "source": [
    "## 1 Introdução à lógica de programação"
   ]
  },
  {
   "attachments": {},
   "cell_type": "markdown",
   "metadata": {},
   "source": [
    "### 1.1 O que é lógica de programação"
   ]
  },
  {
   "attachments": {},
   "cell_type": "markdown",
   "metadata": {},
   "source": [
    "<p> Lógica de programação é o uso correto do racioncínio para elaboração de um algorítmo na programação de computadores </p>"
   ]
  },
  {
   "attachments": {},
   "cell_type": "markdown",
   "metadata": {},
   "source": [
    "### 1.2 O que é um algoritmo?"
   ]
  },
  {
   "attachments": {},
   "cell_type": "markdown",
   "metadata": {},
   "source": [
    "<p> Algoritmo é uma sequência de passos que visa atingir um objetivo bem definido </p>"
   ]
  },
  {
   "attachments": {},
   "cell_type": "markdown",
   "metadata": {},
   "source": [
    "## 2 Introdução à Python"
   ]
  },
  {
   "cell_type": "code",
   "execution_count": 1,
   "metadata": {},
   "outputs": [
    {
     "name": "stdout",
     "output_type": "stream",
     "text": [
      "1 \n",
      " 1.0 \n",
      " (1+0j) \n",
      " 1\n",
      "<class 'int'>\n"
     ]
    }
   ],
   "source": [
    "# a=1\n",
    "# print(a)\n",
    "# b=1.0\n",
    "# print(b)\n",
    "# c=1+0j\n",
    "# print(c)\n",
    "# d='1'\n",
    "# print(d)\n",
    "\n",
    "a, b, c, d = 1, 1.0, 1+0j, '1'\n",
    "print(a, '\\n', b,'\\n', c,'\\n', d)\n",
    "print(type(a))\n",
    "# dir(d)"
   ]
  },
  {
   "cell_type": "code",
   "execution_count": 2,
   "metadata": {},
   "outputs": [
    {
     "name": "stdout",
     "output_type": "stream",
     "text": [
      "Hello World\n",
      "007\n"
     ]
    },
    {
     "data": {
      "text/plain": [
       "['Hello', 'World']"
      ]
     },
     "execution_count": 2,
     "metadata": {},
     "output_type": "execute_result"
    }
   ],
   "source": [
    "s='Hello World' \n",
    "print('Hello World')\n",
    "\n",
    "a = '7'\n",
    "print(a.zfill(3)) #completa a str com zeros\n",
    "\n",
    "s.split()"
   ]
  },
  {
   "cell_type": "code",
   "execution_count": 3,
   "metadata": {},
   "outputs": [
    {
     "name": "stdout",
     "output_type": "stream",
     "text": [
      "[1, 2, 3]\n",
      "[7, 11, 3, 15]\n",
      "4\n",
      "3 15\n",
      "None\n",
      "None\n",
      "[11, 7]\n",
      "[11]\n"
     ]
    }
   ],
   "source": [
    "primeria_lista = [1,2,3]\n",
    "print (primeria_lista)\n",
    "\n",
    "segunda_lista = [7,11,3,15]\n",
    "print(segunda_lista)\n",
    "\n",
    "print(len(segunda_lista))\n",
    "print(min(segunda_lista),max(segunda_lista))\n",
    "\n",
    "print(segunda_lista.sort())\n",
    "print(segunda_lista.sort(reverse=True))\n",
    "\n",
    "print(segunda_lista[1:3])\n",
    "print(segunda_lista[1:-2])"
   ]
  },
  {
   "cell_type": "code",
   "execution_count": 4,
   "metadata": {},
   "outputs": [
    {
     "name": "stdout",
     "output_type": "stream",
     "text": [
      "{'Banana': 1, 34: 'Carro', 'Abacaxi': 3.0}\n",
      "dict_keys(['Banana', 34, 'Abacaxi'])\n",
      "['Banana', 34, 'Abacaxi']\n"
     ]
    },
    {
     "data": {
      "text/plain": [
       "{'Laranja': 2, 'Abacaxi': 55.0}"
      ]
     },
     "execution_count": 4,
     "metadata": {},
     "output_type": "execute_result"
    }
   ],
   "source": [
    "primeiro_dicionario = {\n",
    "    'Banana': 1,\n",
    "    34: 'Carro',\n",
    "    'Abacaxi': 3.0\n",
    "}\n",
    "\n",
    "print(primeiro_dicionario)\n",
    "print(primeiro_dicionario.keys())\n",
    "print(list(primeiro_dicionario.keys()))\n",
    "\n",
    "segundo_dicionario = {}\n",
    "type(segundo_dicionario)\n",
    "\n",
    "segundo_dicionario['Banana'] = 1\n",
    "segundo_dicionario['Laranja'] = 2\n",
    "segundo_dicionario['Abacaxi'] = 3\n",
    "\n",
    "segundo_dicionario['Abacaxi'] = 55.0\n",
    "\n",
    "del segundo_dicionario['Banana']\n",
    "\n",
    "segundo_dicionario\n"
   ]
  },
  {
   "cell_type": "code",
   "execution_count": 7,
   "metadata": {},
   "outputs": [
    {
     "name": "stdout",
     "output_type": "stream",
     "text": [
      "[1, 2, 3, 15, 11, 7, 3]\n"
     ]
    }
   ],
   "source": [
    "print(primeria_lista + segunda_lista)"
   ]
  },
  {
   "cell_type": "code",
   "execution_count": 9,
   "metadata": {},
   "outputs": [
    {
     "name": "stdout",
     "output_type": "stream",
     "text": [
      "Bat's earned a day off.\n",
      "Bat's earned a day off.\n",
      "Bat's earned a day off.\n",
      "Bat's earned a day off.\n",
      "Bat's earned a day off.\n",
      "Bat's earned a day off.\n",
      "Bat's earned a day off.\n",
      "Bat's earned a day off.\n",
      "Bat's earned a day off.\n",
      "Bat's earned a day off.\n"
     ]
    }
   ],
   "source": [
    "for _ in range(10):\n",
    "    print(\"Bat's earned a day off.\")"
   ]
  },
  {
   "cell_type": "code",
   "execution_count": null,
   "metadata": {},
   "outputs": [],
   "source": []
  }
 ],
 "metadata": {
  "kernelspec": {
   "display_name": "venv",
   "language": "python",
   "name": "python3"
  },
  "language_info": {
   "codemirror_mode": {
    "name": "ipython",
    "version": 3
   },
   "file_extension": ".py",
   "mimetype": "text/x-python",
   "name": "python",
   "nbconvert_exporter": "python",
   "pygments_lexer": "ipython3",
   "version": "3.11.2"
  },
  "orig_nbformat": 4
 },
 "nbformat": 4,
 "nbformat_minor": 2
}
